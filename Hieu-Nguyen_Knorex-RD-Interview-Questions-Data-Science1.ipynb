{
 "cells": [
  {
   "cell_type": "markdown",
   "metadata": {
    "colab_type": "text",
    "id": "k2UaB3eWCk10"
   },
   "source": [
    "## Knorex R&D Interview Questions\n",
    "\n",
    "### Instructions: \n",
    "\n",
    "1. This test is designed to test your basic programming skills and machine learning/mathematics knowledge. \n",
    "2. You will obtain partial credits if you show a clear thought process even if you don't get the final answer correctly. \n",
    "3. Please follow good programming practises and make your code easily readable (e.g. variable naming, documentation, comments etc.). \n",
    "4. Cite any reference that you think is worth mentioning.\n",
    "5. Make sure your code is runnable after running the set-up commands. The reviewer is not responsible for installing missing libraries you forget to include.\n",
    "6. Please read the instructions for each question carefully, especially what is & isn't allowed. If you don't follow the instructions, you won't receive any credit for that question.\n",
    "7. Most likely, you cannot answer all the questions. If you can score 50\\% or 60\\%, you can proceed to the next round. So plan your time well.\n",
    "8. Please do not disclose the question to anyone. Using cloud-based environment like Google colaboratory during the interview is not allowed.\n",
    "\n",
    "**Good luck!**"
   ]
  },
  {
   "cell_type": "markdown",
   "metadata": {
    "colab_type": "text",
    "id": "wdTPuay4yg1E"
   },
   "source": [
    "### Setting up the dependencies (if needed)"
   ]
  },
  {
   "cell_type": "code",
   "execution_count": 33,
   "metadata": {
    "colab": {
     "base_uri": "https://localhost:8080/",
     "height": 575
    },
    "colab_type": "code",
    "executionInfo": {
     "elapsed": 120805,
     "status": "ok",
     "timestamp": 1545273513176,
     "user": {
      "displayName": "Yiping Jin",
      "photoUrl": "https://lh3.googleusercontent.com/-HL0bDTDma60/AAAAAAAAAAI/AAAAAAAAFDk/ipueyv7QFdw/s64/photo.jpg",
      "userId": "00664416207366060393"
     },
     "user_tz": -480
    },
    "id": "sjIw7WEBCecc",
    "outputId": "68950f27-2ab7-46b4-b6df-de8f5b8723f1"
   },
   "outputs": [
    {
     "ename": "ModuleNotFoundError",
     "evalue": "No module named 'torch'",
     "output_type": "error",
     "traceback": [
      "\u001b[1;31m---------------------------------------------------------------------------\u001b[0m",
      "\u001b[1;31mModuleNotFoundError\u001b[0m                       Traceback (most recent call last)",
      "\u001b[1;32m<ipython-input-33-13d69c3f8d5e>\u001b[0m in \u001b[0;36m<module>\u001b[1;34m\u001b[0m\n\u001b[0;32m      4\u001b[0m \u001b[1;31m# !pip install torch\u001b[0m\u001b[1;33m\u001b[0m\u001b[1;33m\u001b[0m\u001b[1;33m\u001b[0m\u001b[0m\n\u001b[0;32m      5\u001b[0m \u001b[1;31m# !pip install tensorflow\u001b[0m\u001b[1;33m\u001b[0m\u001b[1;33m\u001b[0m\u001b[1;33m\u001b[0m\u001b[0m\n\u001b[1;32m----> 6\u001b[1;33m \u001b[1;32mimport\u001b[0m \u001b[0mtorch\u001b[0m\u001b[1;33m\u001b[0m\u001b[1;33m\u001b[0m\u001b[0m\n\u001b[0m\u001b[0;32m      7\u001b[0m \u001b[0mtorch\u001b[0m\u001b[1;33m.\u001b[0m\u001b[0m__version__\u001b[0m\u001b[1;33m\u001b[0m\u001b[1;33m\u001b[0m\u001b[0m\n",
      "\u001b[1;31mModuleNotFoundError\u001b[0m: No module named 'torch'"
     ]
    }
   ],
   "source": [
    "# Set up dependencies if needed. Most likely it'll have been installed for you.\n",
    "# !pip install Pillow numpy matplotlib\n",
    "# !pip install numpy torchvision\n",
    "# !pip install torch\n",
    "# !pip install tensorflow\n",
    "import torch\n",
    "torch.__version__"
   ]
  },
  {
   "cell_type": "code",
   "execution_count": 21,
   "metadata": {
    "colab": {},
    "colab_type": "code",
    "id": "depoykQ9ycve"
   },
   "outputs": [
    {
     "ename": "ModuleNotFoundError",
     "evalue": "No module named 'torch'",
     "output_type": "error",
     "traceback": [
      "\u001b[1;31m---------------------------------------------------------------------------\u001b[0m",
      "\u001b[1;31mModuleNotFoundError\u001b[0m                       Traceback (most recent call last)",
      "\u001b[1;32m<ipython-input-21-cb78e5b8ada3>\u001b[0m in \u001b[0;36m<module>\u001b[1;34m\u001b[0m\n\u001b[0;32m      9\u001b[0m \u001b[1;33m\u001b[0m\u001b[0m\n\u001b[0;32m     10\u001b[0m \u001b[1;31m#torch\u001b[0m\u001b[1;33m\u001b[0m\u001b[1;33m\u001b[0m\u001b[1;33m\u001b[0m\u001b[0m\n\u001b[1;32m---> 11\u001b[1;33m \u001b[1;32mimport\u001b[0m \u001b[0mtorch\u001b[0m\u001b[1;33m\u001b[0m\u001b[1;33m\u001b[0m\u001b[0m\n\u001b[0m\u001b[0;32m     12\u001b[0m \u001b[1;32mimport\u001b[0m \u001b[0mtorch\u001b[0m\u001b[1;33m.\u001b[0m\u001b[0mnn\u001b[0m \u001b[1;32mas\u001b[0m \u001b[0mnn\u001b[0m\u001b[1;33m\u001b[0m\u001b[1;33m\u001b[0m\u001b[0m\n\u001b[0;32m     13\u001b[0m \u001b[1;32mimport\u001b[0m \u001b[0mtorch\u001b[0m\u001b[1;33m.\u001b[0m\u001b[0mnn\u001b[0m\u001b[1;33m.\u001b[0m\u001b[0mfunctional\u001b[0m \u001b[1;32mas\u001b[0m \u001b[0mF\u001b[0m\u001b[1;33m\u001b[0m\u001b[1;33m\u001b[0m\u001b[0m\n",
      "\u001b[1;31mModuleNotFoundError\u001b[0m: No module named 'torch'"
     ]
    }
   ],
   "source": [
    "%matplotlib inline\n",
    "\n",
    "#the usual suspects\n",
    "import math\n",
    "import random\n",
    "import numpy as np\n",
    "from PIL import Image\n",
    "import matplotlib.pyplot as plt\n",
    "\n",
    "#torch\n",
    "import torch\n",
    "import torch.nn as nn\n",
    "import torch.nn.functional as F\n",
    "from torch import optim\n",
    "\n",
    "#use cuda 0 if available; assuming 1 gpu\n",
    "device = torch.device(\"cuda:0\" if torch.cuda.is_available() else \"cpu\")"
   ]
  },
  {
   "cell_type": "markdown",
   "metadata": {
    "colab_type": "text",
    "id": "pEzADLxxuO3r"
   },
   "source": [
    "## Part 1: Mathmatical & Machine Learning Fundations"
   ]
  },
  {
   "cell_type": "markdown",
   "metadata": {
    "colab_type": "text",
    "id": "-8DKjU0xEEBi"
   },
   "source": [
    "### Question 1A: Numerical Analysis (10 points)"
   ]
  },
  {
   "cell_type": "markdown",
   "metadata": {
    "colab_type": "text",
    "id": "3ffdp7WrElWe"
   },
   "source": [
    "In real-world, we often need to find the root of the following equation:\n",
    "\n",
    "$x: f(x)=0$\n",
    "\n",
    "However, the function $f(x)$ may be very complex and it's not always possible to solve the equation analytically. Therefore, method $N$ is often used to solve the equation using iterative approach. Method N works as follows:\n",
    "\n",
    "1. Start from an arbitrary point $x_0$, we calculate the tangent at $(x_0, f(x_0))$.\n",
    "2. The tangent intersects the $x$ axis at $x_1$. \n",
    "3. We then calculate the tangent at $(x_1, f(x_1))$ and intersects the $x$ axis at $x_2$.\n",
    "4. We repeat the process $n$ times until $|f(x_n)|<\\epsilon$.\n",
    "\n",
    "![alt text](https://drive.google.com/uc?export=view&id=1cjx8paliy9WRLNM9VTEvprblKcgbYZdG)\n",
    "\n",
    "Please implement the method described above. and calculate the root for $f(x) = 3x^4-5x^3+2x^2-2=0$ using this method with $\\epsilon=0.01$.\n",
    "\n",
    "**Hint:** You need to use an iterative approach. i.e. having a while loop in *method_n* to update $x_i$ until the error is lower than $\\epsilon$"
   ]
  },
  {
   "cell_type": "code",
   "execution_count": 28,
   "metadata": {
    "colab": {},
    "colab_type": "code",
    "id": "adAvAIi_is7i"
   },
   "outputs": [
    {
     "name": "stdout",
     "output_type": "stream",
     "text": [
      "1.4286911262359798\n"
     ]
    }
   ],
   "source": [
    "from numpy import *\n",
    "def f(x):\n",
    "    return 3*(x**4) - 5*(x**3) + 2*(x**2) -2\n",
    "def _gradient(x):\n",
    "#       \"\"\" return the gradient of f(x).\n",
    "#       You will likely need to use the gradient. \n",
    "#       Hint: You can either differentiate by hand or use a library to do so.\n",
    "#   \"\"\"\n",
    "    return 12*(x**3) - 15*(x**2) + 4*x\n",
    "def method_n(x):\n",
    "#   \"\"\"\n",
    "#   @param: x - the starting point x_0\n",
    "#   @returns: the solution that satisfies |f(x)|<epsilon\n",
    "#   \"\"\"\n",
    "    while(abs(f(x)) > 0.01):\n",
    "        new_x = -(f(x)/(_gradient(x))) + x\n",
    "        x = new_x\n",
    "    return x\n",
    "\n",
    "x = 1\n",
    "print(method_n(x))"
   ]
  },
  {
   "cell_type": "markdown",
   "metadata": {
    "colab_type": "text",
    "id": "SnyMrRAXubAM"
   },
   "source": [
    "### Question 1B: Tensor Operations (10 points)"
   ]
  },
  {
   "cell_type": "markdown",
   "metadata": {
    "colab_type": "text",
    "id": "2SX0ebjju2dx"
   },
   "source": [
    "Answer the following questions using Tensorflow/Keras/PyTorch/numpy. The following are **NOT** allowed: Python list, for/while loops, Python if conditions. Make sure your implementation is as efficient & elegant as possible. No brute-force solution is accepted.\n",
    "\n",
    "1. Create a $10\\times 10$ tensor with the elements on the border being 1 and all the other elements being 0.\n",
    "2. Create a random matrix with dimension $10\\times 5$. Substract each element by the mean of its corresponding collumn.\n",
    "3. Create two random matrix with dimension $20\\times 8 \\times 3$ and calculate their mean squared error."
   ]
  },
  {
   "cell_type": "code",
   "execution_count": 33,
   "metadata": {
    "colab": {},
    "colab_type": "code",
    "id": "SitNXI-Iw4DH"
   },
   "outputs": [],
   "source": [
    "import tensorflow as tf\n",
    "# question 1\n"
   ]
  },
  {
   "cell_type": "code",
   "execution_count": 29,
   "metadata": {},
   "outputs": [
    {
     "name": "stdout",
     "output_type": "stream",
     "text": [
      "tf.Tensor(\n",
      "[[1. 1. 1. 1. 1. 1. 1. 1. 1. 1.]\n",
      " [1. 0. 0. 0. 0. 0. 0. 0. 0. 1.]\n",
      " [1. 0. 0. 0. 0. 0. 0. 0. 0. 1.]\n",
      " [1. 0. 0. 0. 0. 0. 0. 0. 0. 1.]\n",
      " [1. 0. 0. 0. 0. 0. 0. 0. 0. 1.]\n",
      " [1. 0. 0. 0. 0. 0. 0. 0. 0. 1.]\n",
      " [1. 0. 0. 0. 0. 0. 0. 0. 0. 1.]\n",
      " [1. 0. 0. 0. 0. 0. 0. 0. 0. 1.]\n",
      " [1. 0. 0. 0. 0. 0. 0. 0. 0. 1.]\n",
      " [1. 1. 1. 1. 1. 1. 1. 1. 1. 1.]], shape=(10, 10), dtype=float64)\n"
     ]
    }
   ],
   "source": [
    "x = np.ones((10, 10))\n",
    "x[1:-1, 1:-1] = 0\n",
    "result = tf.constant(x)\n",
    "\n",
    "print(result)"
   ]
  },
  {
   "cell_type": "code",
   "execution_count": 18,
   "metadata": {},
   "outputs": [
    {
     "name": "stdout",
     "output_type": "stream",
     "text": [
      "[[-0.13289283 -0.31590972 -0.04107105 -0.0665003   0.14349748]\n",
      " [ 0.28554662 -0.0986044   0.07475902 -0.09045933  0.04449038]\n",
      " [-0.08452661  0.36944165  0.38359254 -0.20218455  0.16564082]\n",
      " [ 0.07199253 -0.27907849 -0.39786437  0.38982043  0.1219333 ]\n",
      " [ 0.01619235 -0.35859515  0.40484525 -0.08312128 -0.01877163]\n",
      " [ 0.04166793  0.46159491 -0.02239376  0.12246051  0.21280231]\n",
      " [ 0.39810268  0.20267857 -0.33472944  0.18059827 -0.43729079]\n",
      " [-0.24962696 -0.1173023   0.20296453 -0.21084787 -0.30161662]\n",
      " [-0.13555377  0.42262302 -0.19986086 -0.12485221  0.06251173]\n",
      " [-0.21090194 -0.28684809 -0.07024187  0.08508633  0.00680302]]\n"
     ]
    }
   ],
   "source": [
    "import numpy as np\n",
    "# question 2\n",
    "result = np.random.rand(10,5)\n",
    "result = result - result.mean(axis=0)\n",
    "# result = result[10] - np.mean()\n",
    "\n",
    "print(result)"
   ]
  },
  {
   "cell_type": "code",
   "execution_count": 29,
   "metadata": {},
   "outputs": [
    {
     "name": "stdout",
     "output_type": "stream",
     "text": [
      "0.16477024427856143\n"
     ]
    }
   ],
   "source": [
    "# question 3\n",
    "result = np.random.rand(20, 8, 3)\n",
    "result2 = np.random.rand(20, 8, 3)\n",
    "diff = np.subtract(result, result2)\n",
    "square = np.square(diff)\n",
    "mse = square.mean()\n",
    "print(mse)"
   ]
  },
  {
   "cell_type": "markdown",
   "metadata": {
    "colab_type": "text",
    "id": "Z5PR3vVH0SPT"
   },
   "source": [
    "### Question 1C: Classifier that Predicts Multiple Labels (10 points)"
   ]
  },
  {
   "cell_type": "markdown",
   "metadata": {
    "colab_type": "text",
    "id": "An4Rk2sL0XiX"
   },
   "source": [
    "In traditional multi-class learning, usually only one label is returned (the label which the model predicts the highest score/probability). However, in real-world data, we often have examples which are associated with multiple categories. E.g. A celebrity sings at the Olympic opening can be tags \"Sports\" and \"Arts and Entertainment\".\n",
    "\n",
    "The problem with softmax function is the probability of the categories sum to 1 and it favors only the top 1 or 2 categories. Propose a new cost function to handle the case where multiple labels can be output.\n",
    "\n",
    "**Hint:** You should consider each prediction separately without normalising using softmax. However, the predictions should be a proper probability."
   ]
  },
  {
   "cell_type": "code",
   "execution_count": 34,
   "metadata": {
    "colab": {},
    "colab_type": "code",
    "id": "C9_qqRV61vHY"
   },
   "outputs": [
    {
     "name": "stdout",
     "output_type": "stream",
     "text": [
      "tf.Tensor(\n",
      "[[0.67226918 0.72606221 0.57333684 0.6560616  0.66215884]\n",
      " [0.60390998 0.63687828 0.62591972 0.59271867 0.60978069]\n",
      " [0.64534585 0.51726751 0.66097031 0.64095185 0.56133083]\n",
      " [0.67424941 0.53164125 0.69242824 0.56189327 0.68380329]\n",
      " [0.72530559 0.60977711 0.69978005 0.54164584 0.66619543]\n",
      " [0.5958124  0.57310063 0.54804089 0.64936113 0.66897616]\n",
      " [0.71802166 0.67432941 0.65266874 0.52518763 0.72505396]\n",
      " [0.52598669 0.52986755 0.58882451 0.51128967 0.63883526]\n",
      " [0.51555118 0.65202143 0.50765274 0.61193711 0.57235208]\n",
      " [0.64605572 0.61273082 0.69148768 0.69601174 0.53380588]], shape=(10, 5), dtype=float64)\n"
     ]
    }
   ],
   "source": [
    "def cost_fn(Z):\n",
    "#   \"\"\"\n",
    "#   @param: Z: the last linear layer value of the network. with dimension batch_size*num_categories\n",
    "#   return: the probability for each category with dimension batch_size*num_categories\n",
    "#   \"\"\"\n",
    "    m = tf.math.sigmoid(Z)\n",
    "    return m\n",
    "\n",
    "Z = np.random.rand(10, 5)\n",
    "print(cost_fn(Z))"
   ]
  },
  {
   "cell_type": "markdown",
   "metadata": {
    "colab_type": "text",
    "id": "qrFUpUX8xG8l"
   },
   "source": [
    "## Part 2: Deep Learning"
   ]
  },
  {
   "cell_type": "markdown",
   "metadata": {
    "colab_type": "text",
    "id": "kHaV13u0bBzN"
   },
   "source": [
    "### Question 2A: Simple Model from Scratch (30 points)"
   ]
  },
  {
   "cell_type": "markdown",
   "metadata": {
    "colab_type": "text",
    "id": "SsaMrAJKdumb"
   },
   "source": [
    "Algorithm $P$ is one of the earliest neural networks model. The model is extremely simple. It calculates the weighted sum of the input and applies a non-linear step function. \n",
    "\n",
    "![alt text](https://drive.google.com/uc?export=view&id=1Omc7z8iF51k5AkDlWNv2yxQ0Q0jPUp9_)\n",
    "\n",
    "Your task is to implement the algorithm and classify a synthesized dataset which contains three labels. You can either implement in pure Python/Numpy or use a library such as Tensorflow, PyTorch or Keras. However, you're not allowed to use pre-built classifiers from any of the libraries. \n",
    "\n",
    "**More information: **\n",
    "\n",
    "1. You can use the sigmoid function or softmax function for the non-linear layer. \n",
    "2. Since there're three classes, you might need to train multiple binary classifiers or train a model which is able to predict multi-label.\n",
    "3. Please implement the single-layer model described above. Don't just copy-n-paste a MLP here.\n",
    "\n",
    "**Hint:**\n",
    "\n",
    "In general, you shall follow this sequence:\n",
    "\n",
    "1. The forward pass: calculate the prediction from the input and the weights. \n",
    "2. Calculate the error.\n",
    "3. Calculate the gradient of each weight w.r.t the error.\n",
    "4. Use any other optimisation algorithm to update the weights.\n",
    "5. It's up to you to use either mini-batch or SGD."
   ]
  },
  {
   "cell_type": "code",
   "execution_count": 19,
   "metadata": {
    "colab": {},
    "colab_type": "code",
    "id": "zLkYXYsZe7mV"
   },
   "outputs": [],
   "source": [
    "# Number of clusters\n",
    "k = 3\n",
    "\n",
    "# Set three centers, the model should predict similar results\n",
    "center_1 = np.array([1,1])\n",
    "center_2 = np.array([5,5])\n",
    "center_3 = np.array([8,1])\n",
    "\n",
    "# Generate random data and center it to the three centers\n",
    "data_1 = np.random.randn(200, 2) + center_1\n",
    "data_2 = np.random.randn(200,2) + center_2\n",
    "data_3 = np.random.randn(200,2) + center_3\n",
    "\n",
    "# label of the data\n",
    "label_1 = np.ones((200, 1))\n",
    "label_2 = np.ones((200, 1)) * 2\n",
    "label_3 = np.ones((200, 1)) * 3\n",
    "\n",
    "data = np.concatenate((data_1, data_2, data_3), axis = 0)\n",
    "label = np.concatenate((label_1, label_2, label_3), axis = 0)\n"
   ]
  },
  {
   "cell_type": "code",
   "execution_count": 22,
   "metadata": {
    "colab": {
     "base_uri": "https://localhost:8080/",
     "height": 347
    },
    "colab_type": "code",
    "executionInfo": {
     "elapsed": 1259,
     "status": "ok",
     "timestamp": 1542170717965,
     "user": {
      "displayName": "Yiping Jin",
      "photoUrl": "https://lh3.googleusercontent.com/-HL0bDTDma60/AAAAAAAAAAI/AAAAAAAAFDk/ipueyv7QFdw/s64/photo.jpg",
      "userId": "00664416207366060393"
     },
     "user_tz": -420
    },
    "id": "HI0u5Ybzh1Rd",
    "outputId": "df2f30ee-c2ae-4fec-9618-8da47f2987a0"
   },
   "outputs": [
    {
     "data": {
      "image/png": "[encoded data removed]",
      "text/plain": [
       "<Figure size 432x288 with 1 Axes>"
      ]
     },
     "metadata": {
      "needs_background": "light"
     },
     "output_type": "display_data"
    }
   ],
   "source": [
    "# Plot the data and the label\n",
    "colors = ['r', 'g', 'b']\n",
    "fig, ax = plt.subplots()\n",
    "for i in range(k):\n",
    "        points = np.array([data[j] for j in range(len(data)) if label[j] == i+1])\n",
    "        ax.scatter(points[:, 0], points[:, 1], s=7, c=colors[i])"
   ]
  },
  {
   "cell_type": "code",
   "execution_count": 25,
   "metadata": {
    "colab": {},
    "colab_type": "code",
    "id": "fvOXWlaQjZJV"
   },
   "outputs": [
    {
     "name": "stdout",
     "output_type": "stream",
     "text": [
      "Epoch 1/10\n",
      "19/19 [==============================] - 0s 577us/step - loss: 3.9602\n",
      "Epoch 2/10\n",
      "19/19 [==============================] - 0s 630us/step - loss: 2.3742\n",
      "Epoch 3/10\n",
      "19/19 [==============================] - 0s 629us/step - loss: 2.0160\n",
      "Epoch 4/10\n",
      "19/19 [==============================] - 0s 577us/step - loss: 1.8621\n",
      "Epoch 5/10\n",
      "19/19 [==============================] - 0s 577us/step - loss: 1.8118\n",
      "Epoch 6/10\n",
      "19/19 [==============================] - 0s 630us/step - loss: 1.7974\n",
      "Epoch 7/10\n",
      "19/19 [==============================] - 0s 630us/step - loss: 1.7935\n",
      "Epoch 8/10\n",
      "19/19 [==============================] - 0s 577us/step - loss: 1.7924\n",
      "Epoch 9/10\n",
      "19/19 [==============================] - 0s 633us/step - loss: 1.7921\n",
      "Epoch 10/10\n",
      "19/19 [==============================] - 0s 630us/step - loss: 1.7920\n"
     ]
    },
    {
     "data": {
      "text/plain": [
       "<tensorflow.python.keras.callbacks.History at 0x2924f9ed048>"
      ]
     },
     "execution_count": 25,
     "metadata": {},
     "output_type": "execute_result"
    }
   ],
   "source": [
    "# TODO: your answer here\n",
    "from tensorflow import keras\n",
    "from keras.layers import Dense\n",
    "model = keras.Sequential([Dense(3, activation='softmax')])\n",
    "model.compile(optimizer='SGD', loss='BinaryCrossentropy')\n",
    "model.fit(data, label, epochs=10)"
   ]
  },
  {
   "cell_type": "code",
   "execution_count": 27,
   "metadata": {},
   "outputs": [
    {
     "name": "stdout",
     "output_type": "stream",
     "text": [
      "19/19 - 0s - loss: 1.7920\n",
      "\n",
      "Test accuracy: 1.7920023202896118\n"
     ]
    }
   ],
   "source": [
    "test_acc = model.evaluate(data, label, verbose=2)\n",
    "\n",
    "print('\\nTest accuracy:', test_acc)"
   ]
  },
  {
   "cell_type": "markdown",
   "metadata": {
    "colab_type": "text",
    "id": "TyRaJOd6xfSm"
   },
   "source": [
    "### Question 2B: Free Style (Bonus Question 30 points)"
   ]
  },
  {
   "cell_type": "markdown",
   "metadata": {
    "colab_type": "text",
    "id": "7KIFOv8PxuPU"
   },
   "source": [
    "*Note*: Answer this question only if you have extra time.\n",
    "\n",
    "Non-linearly separable data is one of the major motivations for neural networks models. In the following example, we generate artificial data in the shape of spirals. In this question, you shall implement the model of your choice using any deep learning package. The objective is to achieve the best test set accuracy (for train/test set, you can use random 70/30 split). "
   ]
  },
  {
   "cell_type": "code",
   "execution_count": 8,
   "metadata": {
    "colab": {},
    "colab_type": "code",
    "id": "2-sENlp5xvBB"
   },
   "outputs": [],
   "source": [
    "#code from https://github.com/Datatouille/pytorch-Deep-Learning-Minicourse\n",
    "def plot_shallow_model(X, y, model, e=.0):\n",
    "    \"\"\"\n",
    "    Plot the model from torch weights.\n",
    "    \"\"\"\n",
    "    \n",
    "    X = X.numpy()\n",
    "    y = y.numpy()\n",
    "    w1 = torch.transpose(model[0].weight.data, 0, 1).numpy()\n",
    "    b1 = model[0].bias.data.numpy()\n",
    "    \n",
    "    h = 0.01\n",
    "\n",
    "    x_min, x_max = (-1.1, 1.1)\n",
    "    y_min, y_max = (-1.1, 1.1)\n",
    "    \n",
    "    xx, yy = np.meshgrid(np.arange(x_min, x_max, h),np.arange(y_min, y_max, h))\n",
    "    Z = np.maximum(0, np.dot(np.c_[xx.ravel(), yy.ravel()], w1) + b1)\n",
    "    Z = np.argmax(Z, axis=1)\n",
    "    Z = Z.reshape(xx.shape)\n",
    "    fig = plt.figure()\n",
    "    plt.contourf(xx, yy, Z, cmap=plt.cm.Spectral, alpha=0.3)\n",
    "    plt.scatter(X[:, 0], X[:, 1], c=y, s=40, cmap=plt.cm.Spectral)\n",
    "    plt.axis((-1.1, 1.1, -1.1, 1.1))\n",
    "    plt.axis('square')\n",
    "\n",
    "def plot_deep_model(X, y, model, e=.0):\n",
    "    \"\"\"\n",
    "    Plot the model from torch weights.\n",
    "    \"\"\"\n",
    "    \n",
    "    X = X.numpy()\n",
    "    y = y.numpy()\n",
    "    w1 = torch.transpose(model.fc1.weight.data, 0, 1).numpy()\n",
    "    b1 = model.fc1.bias.data.numpy()\n",
    "    w2 = torch.transpose(model.fc2.weight.data, 0, 1).numpy()\n",
    "    b2 = model.fc2.bias.data.numpy()\n",
    "    \n",
    "    h = 0.01\n",
    "\n",
    "    x_min, x_max = (-1.1, 1.1)\n",
    "    y_min, y_max = (-1.1, 1.1)\n",
    "    \n",
    "    xx, yy = np.meshgrid(np.arange(x_min, x_max, h),np.arange(y_min, y_max, h))\n",
    "    Z = np.dot(np.maximum(0, np.dot(np.c_[xx.ravel(), yy.ravel()], w1) + b1), w2) + b2\n",
    "    Z = np.argmax(Z, axis=1)\n",
    "    Z = Z.reshape(xx.shape)\n",
    "    fig = plt.figure()\n",
    "    plt.contourf(xx, yy, Z, cmap=plt.cm.Spectral, alpha=0.3)\n",
    "    plt.scatter(X[:, 0], X[:, 1], c=y, s=40, cmap=plt.cm.Spectral)\n",
    "    plt.axis((-1.1, 1.1, -1.1, 1.1))\n",
    "    plt.axis('square')    \n",
    "\n",
    "#code from http://cs231n.github.io/neural-networks-case-study/\n",
    "def spiral_gen(N,D,K):\n",
    "    #N = 100 # number of points per class\n",
    "    #D = 2 # dimensionality\n",
    "    #K = 3 # number of classes\n",
    "    X = np.zeros((N*K,D)) # data matrix (each row = single example)\n",
    "    y = np.zeros(N*K, dtype='uint8') # class labels\n",
    "    for j in range(K):\n",
    "      ix = range(N*j,N*(j+1))\n",
    "      r = np.linspace(0.0,1,N) # radius\n",
    "      t = np.linspace(j*4,(j+1)*4,N) + np.random.randn(N)*0.2 # theta\n",
    "      X[ix] = np.c_[r*np.sin(t), r*np.cos(t)]\n",
    "      y[ix] = j\n",
    "    # lets visualize the data:\n",
    "    plt.scatter(X[:, 0], X[:, 1], c=y, s=40, cmap=plt.cm.Spectral)\n",
    "    plt.show()\n",
    "    return(X,y)"
   ]
  },
  {
   "cell_type": "code",
   "execution_count": 9,
   "metadata": {
    "colab": {
     "base_uri": "https://localhost:8080/",
     "height": 235
    },
    "colab_type": "code",
    "executionInfo": {
     "elapsed": 35039,
     "status": "error",
     "timestamp": 1545273513178,
     "user": {
      "displayName": "Yiping Jin",
      "photoUrl": "https://lh3.googleusercontent.com/-HL0bDTDma60/AAAAAAAAAAI/AAAAAAAAFDk/ipueyv7QFdw/s64/photo.jpg",
      "userId": "00664416207366060393"
     },
     "user_tz": -480
    },
    "id": "wFtxSikXyA6Q",
    "outputId": "154022f0-4822-4ed4-aa8e-fd16a31bd6d5"
   },
   "outputs": [
    {
     "data": {
      "image/png": "[encoded data removed]",
      "text/plain": [
       "<Figure size 432x288 with 1 Axes>"
      ]
     },
     "metadata": {
      "needs_background": "light"
     },
     "output_type": "display_data"
    },
    {
     "name": "stdout",
     "output_type": "stream",
     "text": [
      "Shape of x: torch.Size([3000, 2])\n",
      "Shape of y_true: torch.Size([3000])\n"
     ]
    }
   ],
   "source": [
    "#generate spiral example\n",
    "D = 2 #2 features\n",
    "C = 3 #3 classes\n",
    "N = 3000 #number of samples\n",
    "\n",
    "x,y_true = spiral_gen(int(N/C),D,C)\n",
    "x = torch.from_numpy(x).float()\n",
    "y_true = torch.from_numpy(y_true).long()\n",
    "print('Shape of x:',x.shape)\n",
    "print('Shape of y_true:',y_true.shape)"
   ]
  },
  {
   "cell_type": "code",
   "execution_count": 0,
   "metadata": {
    "colab": {},
    "colab_type": "code",
    "id": "sosz1YL6zxrm"
   },
   "outputs": [],
   "source": []
  }
 ],
 "metadata": {
  "colab": {
   "collapsed_sections": [],
   "name": "Knorex R&D Interview Questions Data Science.ipynb",
   "provenance": [],
   "version": "0.3.2"
  },
  "kernelspec": {
   "display_name": "Python 3",
   "language": "python",
   "name": "python3"
  }
 },
 "nbformat": 4,
 "nbformat_minor": 1
}
