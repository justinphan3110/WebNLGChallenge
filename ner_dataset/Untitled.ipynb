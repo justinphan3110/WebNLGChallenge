{
 "cells": [
  {
   "cell_type": "code",
   "execution_count": 12,
   "metadata": {},
   "outputs": [],
   "source": [
    "# Import BeautifulSoup\n",
    "from bs4 import BeautifulSoup as bs\n",
    "content = []\n",
    "# Read the XML file\n",
    "with open(\"Airport_allSolutions.xml\", \"r\") as file:\n",
    "    # Read each line in the file, readlines() returns a list of lines\n",
    "    content = file.readlines()\n",
    "    # Combine the lines in the list into a string\n",
    "    content = \"\".join(content)\n",
    "    bs_content = bs(content, \"lxml\")"
   ]
  },
  {
   "cell_type": "code",
   "execution_count": 55,
   "metadata": {},
   "outputs": [
    {
     "name": "stdout",
     "output_type": "stream",
     "text": [
      "['The', 'Aarhus', 'is', 'the', 'airport', 'of', 'Aarhus,', 'Denmark.']\n",
      "['Aarhus', 'Airport', 'serves', 'the', 'city', 'of', 'Aarhus,', 'Denmark.']\n"
     ]
    }
   ],
   "source": [
    "entries = bs_content.findAll(\"entry\")\n",
    "\n",
    "sentences = []\n",
    "labels = []\n",
    "for entry in entries:\n",
    "    mtriples = entry.findAll(\"mtriple\")\n",
    "    entity = dict()\n",
    "    for mtriple in [m.get_text() for m  in mtriples]:\n",
    "        relation =[x.strip() for x in mtriple.split('|')]\n",
    "        e1 = relation[0].replace(\"\\\"\", \"\").replace(\"_\", \" \").replace(\",\", \"\")\n",
    "        e2 = relation[2].replace(\"\\\"\", \"\").replace(\"_\", \" \").replace(\",\", \"\")\n",
    "#         entity.add(e1)\n",
    "#         entity.add(e2)\n",
    "        entity.setdefault(e1.split()[0], \"B\")\n",
    "        entity.setdefault(e2.split()[0], \"B\")\n",
    "        for i in range(1,len(e1.split())):\n",
    "            entity.setdefault(e1.split()[i], \"I\")\n",
    "        for i in range(1,len(e2.split())):\n",
    "            entity.setdefault(e2.split()[i], \"I\")\n",
    "            \n",
    "    lexes = entry.findAll(\"lex\")\n",
    "    for lex in [l.get_text() for l in lexes]:\n",
    "        label = []\n",
    "        sentence = []\n",
    "        for word in lex.split():\n",
    "            word\n",
    "            sentence.append(word)\n",
    "            label.append(entity.get(word, \"O\"))\n",
    "        print(sentence)\n",
    "        sentences.append(sentence)\n",
    "        labels.append(label)\n",
    "    \n",
    "    \n",
    "#         entity\n",
    "    break"
   ]
  },
  {
   "cell_type": "code",
   "execution_count": 56,
   "metadata": {},
   "outputs": [
    {
     "data": {
      "text/plain": [
       "([['The', 'Aarhus', 'is', 'the', 'airport', 'of', 'Aarhus,', 'Denmark.'],\n",
       "  ['Aarhus', 'Airport', 'serves', 'the', 'city', 'of', 'Aarhus,', 'Denmark.']],\n",
       " [['O', 'B', 'O', 'O', 'O', 'O', 'O', 'O'],\n",
       "  ['B', 'I', 'O', 'O', 'O', 'O', 'O', 'O']])"
      ]
     },
     "execution_count": 56,
     "metadata": {},
     "output_type": "execute_result"
    }
   ],
   "source": [
    "sentences, labels"
   ]
  },
  {
   "cell_type": "code",
   "execution_count": null,
   "metadata": {},
   "outputs": [],
   "source": []
  }
 ],
 "metadata": {
  "kernelspec": {
   "display_name": "Python 3",
   "language": "python",
   "name": "python3"
  },
  "language_info": {
   "codemirror_mode": {
    "name": "ipython",
    "version": 3
   },
   "file_extension": ".py",
   "mimetype": "text/x-python",
   "name": "python",
   "nbconvert_exporter": "python",
   "pygments_lexer": "ipython3",
   "version": "3.6.9"
  }
 },
 "nbformat": 4,
 "nbformat_minor": 4
}
